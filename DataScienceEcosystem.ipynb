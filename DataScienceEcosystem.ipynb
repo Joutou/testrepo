{
 "cells": [
  {
   "cell_type": "markdown",
   "id": "fbb447aa-e9d4-40af-99dc-25c97754ab67",
   "metadata": {},
   "source": [
    "# Data Science Tools and Ecosystem"
   ]
  },
  {
   "cell_type": "markdown",
   "id": "6176dffd-f10e-497c-8763-b26c633c22a2",
   "metadata": {},
   "source": [
    "In this notebook, Data Science Tools and Ecosystem are summarized."
   ]
  },
  {
   "cell_type": "markdown",
   "id": "e14a9927-d2c4-4e9b-a63b-27c5d6c62467",
   "metadata": {},
   "source": [
    "**Objectives:**\n",
    "- List popular languages for Data Science\n",
    "- List commonly used libraries\n",
    "- Data Science Tools"
   ]
  },
  {
   "cell_type": "markdown",
   "id": "ef6e0a89-beb3-43a4-ba3e-30910bf69cd5",
   "metadata": {},
   "source": [
    "Some of the popular languages that Data Scientists use are:\n",
    "1- Python\n",
    "2- Java\n",
    "3- R"
   ]
  },
  {
   "cell_type": "markdown",
   "id": "51e1c549-d047-4c72-bd79-7f9c62f4acdc",
   "metadata": {},
   "source": [
    "Some of the commonly used libraries used by Data Scientists include:\n",
    "1- NumPy\n",
    "2- Pandas\n",
    "3- MatPlotLib"
   ]
  },
  {
   "cell_type": "markdown",
   "id": "98ebfbfb-89af-435e-a38e-72f6fe04c751",
   "metadata": {},
   "source": [
    "|Data Science Tools|\n",
    "|------------------|\n",
    "|Jupyter Notebook|\n",
    "|Rstudios|\n",
    "|Visual Studio Code|"
   ]
  },
  {
   "cell_type": "markdown",
   "id": "a8ae6d87-f073-4146-8b76-2d182b09b01a",
   "metadata": {},
   "source": [
    "### Below are a few examples of evaluating arithmetic expressions in Python\n",
    "10+7"
   ]
  },
  {
   "cell_type": "code",
   "execution_count": 3,
   "id": "15507b54-ea0f-4e07-b290-87d1be4cdacc",
   "metadata": {},
   "outputs": [
    {
     "data": {
      "text/plain": [
       "17"
      ]
     },
     "execution_count": 3,
     "metadata": {},
     "output_type": "execute_result"
    }
   ],
   "source": [
    "#This a simple arithmetic expression to mutiply then add integers\n",
    "(3*4)+5"
   ]
  },
  {
   "cell_type": "code",
   "execution_count": 4,
   "id": "8b950906-e6b6-4847-a397-151ba21aca95",
   "metadata": {},
   "outputs": [
    {
     "name": "stdout",
     "output_type": "stream",
     "text": [
      "3.3333333333333335 hours\n"
     ]
    }
   ],
   "source": [
    "# This will convert 200 minutes to hours by diving by 60\n",
    "minutes = 200\n",
    "hours = minutes/60\n",
    "print(hours, \"hours\")"
   ]
  },
  {
   "cell_type": "markdown",
   "id": "21209057-af50-4a1e-834b-aacf49270229",
   "metadata": {},
   "source": [
    "## Author\n",
    "RAKOTO Andriantsoa Tojo N."
   ]
  },
  {
   "cell_type": "code",
   "execution_count": null,
   "id": "80c5b9a3-ec03-4080-9592-794227fdb895",
   "metadata": {},
   "outputs": [],
   "source": []
  }
 ],
 "metadata": {
  "kernelspec": {
   "display_name": "Python 3 (ipykernel)",
   "language": "python",
   "name": "python3"
  },
  "language_info": {
   "codemirror_mode": {
    "name": "ipython",
    "version": 3
   },
   "file_extension": ".py",
   "mimetype": "text/x-python",
   "name": "python",
   "nbconvert_exporter": "python",
   "pygments_lexer": "ipython3",
   "version": "3.11.9"
  }
 },
 "nbformat": 4,
 "nbformat_minor": 5
}
